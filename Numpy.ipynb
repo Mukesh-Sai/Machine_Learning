{
 "cells": [
  {
   "cell_type": "code",
   "execution_count": 3,
   "id": "f7410bf1",
   "metadata": {},
   "outputs": [
    {
     "name": "stdout",
     "output_type": "stream",
     "text": [
      "Requirement already satisfied: numpy in c:\\users\\saimukesh\\anaconda3\\lib\\site-packages (1.20.1)Note: you may need to restart the kernel to use updated packages.\n",
      "\n"
     ]
    }
   ],
   "source": [
    "pip install numpy"
   ]
  },
  {
   "cell_type": "code",
   "execution_count": 4,
   "id": "b9d2b335",
   "metadata": {
    "collapsed": true
   },
   "outputs": [
    {
     "ename": "NameError",
     "evalue": "name 'numpy' is not defined",
     "output_type": "error",
     "traceback": [
      "\u001b[1;31m---------------------------------------------------------------------------\u001b[0m",
      "\u001b[1;31mNameError\u001b[0m                                 Traceback (most recent call last)",
      "\u001b[1;32m<ipython-input-4-21f87138bfeb>\u001b[0m in \u001b[0;36m<module>\u001b[1;34m\u001b[0m\n\u001b[1;32m----> 1\u001b[1;33m \u001b[1;33m(\u001b[0m\u001b[0mnumpy\u001b[0m\u001b[1;33m.\u001b[0m\u001b[0m_version_\u001b[0m\u001b[1;33m)\u001b[0m\u001b[1;33m\u001b[0m\u001b[1;33m\u001b[0m\u001b[0m\n\u001b[0m",
      "\u001b[1;31mNameError\u001b[0m: name 'numpy' is not defined"
     ]
    }
   ],
   "source": [
    "(numpy._version_)\n"
   ]
  },
  {
   "cell_type": "code",
   "execution_count": null,
   "id": "7c4d1563",
   "metadata": {},
   "outputs": [],
   "source": [
    "import numpy as np\n",
    "np.__version__\n"
   ]
  },
  {
   "cell_type": "code",
   "execution_count": null,
   "id": "8aa0f0dc",
   "metadata": {},
   "outputs": [],
   "source": [
    "------------------------arrays-------------------------"
   ]
  },
  {
   "cell_type": "code",
   "execution_count": null,
   "id": "b3da9bd3",
   "metadata": {},
   "outputs": [],
   "source": [
    "0-D arrays, or Scalars, are the elements in an array. Each value in an array is a 0-D array.\n",
    "An array that has 0-D arrays as its elements is called uni-dimensional or 1-D array.\n",
    "An array that has 1-D arrays as its elements is called a 2-D array.\n",
    "An array that has 2-D arrays (matrices) as its elements is called 3-D array."
   ]
  },
  {
   "cell_type": "code",
   "execution_count": null,
   "id": "066f53c6",
   "metadata": {},
   "outputs": [],
   "source": [
    "-------------------------0D array---------------------------"
   ]
  },
  {
   "cell_type": "code",
   "execution_count": null,
   "id": "db27f362",
   "metadata": {},
   "outputs": [],
   "source": [
    "a=np.array(65) #0 dimensional array\n",
    "a.ndim   #returns dimensions"
   ]
  },
  {
   "cell_type": "code",
   "execution_count": null,
   "id": "9c7f7c35",
   "metadata": {},
   "outputs": [],
   "source": [
    "------------------------1D array----------------------------"
   ]
  },
  {
   "cell_type": "code",
   "execution_count": 13,
   "id": "54ea407e",
   "metadata": {},
   "outputs": [
    {
     "data": {
      "text/plain": [
       "array([1, 2, 3, 4])"
      ]
     },
     "execution_count": 13,
     "metadata": {},
     "output_type": "execute_result"
    }
   ],
   "source": [
    "b=np.array([1,2,3,4])\n",
    "b"
   ]
  },
  {
   "cell_type": "code",
   "execution_count": 11,
   "id": "57abe3aa",
   "metadata": {},
   "outputs": [
    {
     "name": "stdout",
     "output_type": "stream",
     "text": [
      "2\n"
     ]
    }
   ],
   "source": [
    "\n",
    "b=np.array([1,2,3,4])\n",
    "print(b[1] )  #accessing an array"
   ]
  },
  {
   "cell_type": "code",
   "execution_count": 22,
   "id": "09a5c172",
   "metadata": {},
   "outputs": [
    {
     "data": {
      "text/plain": [
       "1"
      ]
     },
     "execution_count": 22,
     "metadata": {},
     "output_type": "execute_result"
    }
   ],
   "source": [
    "b.ndim"
   ]
  },
  {
   "cell_type": "code",
   "execution_count": 12,
   "id": "1f289f0b",
   "metadata": {},
   "outputs": [
    {
     "data": {
      "text/plain": [
       "(4,)"
      ]
     },
     "execution_count": 12,
     "metadata": {},
     "output_type": "execute_result"
    }
   ],
   "source": [
    "b.shape #returns no of rows and columns"
   ]
  },
  {
   "cell_type": "code",
   "execution_count": null,
   "id": "49906d37",
   "metadata": {},
   "outputs": [],
   "source": [
    "------------------------2D array--------------------------"
   ]
  },
  {
   "cell_type": "code",
   "execution_count": 15,
   "id": "1094ca17",
   "metadata": {},
   "outputs": [
    {
     "data": {
      "text/plain": [
       "(2, 3)"
      ]
     },
     "execution_count": 15,
     "metadata": {},
     "output_type": "execute_result"
    }
   ],
   "source": [
    "c=np.array([[1,2,4],[3,5,6]])\n",
    "c.shape #returns rows and columns"
   ]
  },
  {
   "cell_type": "code",
   "execution_count": 14,
   "id": "083ff060",
   "metadata": {
    "collapsed": true
   },
   "outputs": [
    {
     "ename": "NameError",
     "evalue": "name 'c' is not defined",
     "output_type": "error",
     "traceback": [
      "\u001b[1;31m---------------------------------------------------------------------------\u001b[0m",
      "\u001b[1;31mNameError\u001b[0m                                 Traceback (most recent call last)",
      "\u001b[1;32m<ipython-input-14-ef7b9587b7e7>\u001b[0m in \u001b[0;36m<module>\u001b[1;34m\u001b[0m\n\u001b[1;32m----> 1\u001b[1;33m \u001b[0mc\u001b[0m\u001b[1;33m[\u001b[0m\u001b[1;36m0\u001b[0m\u001b[1;33m,\u001b[0m\u001b[1;36m2\u001b[0m\u001b[1;33m:\u001b[0m\u001b[1;36m4\u001b[0m\u001b[1;33m]\u001b[0m \u001b[1;31m#slicing   2 is included 4 is excluded\u001b[0m\u001b[1;33m\u001b[0m\u001b[1;33m\u001b[0m\u001b[0m\n\u001b[0m",
      "\u001b[1;31mNameError\u001b[0m: name 'c' is not defined"
     ]
    }
   ],
   "source": [
    "c[0,2:4] #slicing   2 is included 4 is excluded"
   ]
  },
  {
   "cell_type": "code",
   "execution_count": 6,
   "id": "eb556e28",
   "metadata": {},
   "outputs": [
    {
     "data": {
      "text/plain": [
       "array([4, 6])"
      ]
     },
     "execution_count": 6,
     "metadata": {},
     "output_type": "execute_result"
    }
   ],
   "source": [
    "c[0:2,2] #returns 3rd element of both rows"
   ]
  },
  {
   "cell_type": "code",
   "execution_count": 23,
   "id": "9f6417df",
   "metadata": {
    "scrolled": true
   },
   "outputs": [
    {
     "data": {
      "text/plain": [
       "6"
      ]
     },
     "execution_count": 23,
     "metadata": {},
     "output_type": "execute_result"
    }
   ],
   "source": [
    "c[1,2]  #[row,col] accesing"
   ]
  },
  {
   "cell_type": "code",
   "execution_count": null,
   "id": "ff2c6d00",
   "metadata": {},
   "outputs": [],
   "source": [
    "---------------------------3D array-----------------------------"
   ]
  },
  {
   "cell_type": "code",
   "execution_count": 17,
   "id": "fadf1b68",
   "metadata": {},
   "outputs": [
    {
     "data": {
      "text/plain": [
       "(2, 2, 3)"
      ]
     },
     "execution_count": 17,
     "metadata": {},
     "output_type": "execute_result"
    }
   ],
   "source": [
    "d = np.array([[[1, 2, 3], [4, 5, 6]], [[1, 2, 3], [42, 57, 6]]])\n",
    "d.ndim\n",
    "d.shape"
   ]
  },
  {
   "cell_type": "code",
   "execution_count": 24,
   "id": "89ae9968",
   "metadata": {},
   "outputs": [
    {
     "data": {
      "text/plain": [
       "2"
      ]
     },
     "execution_count": 24,
     "metadata": {},
     "output_type": "execute_result"
    }
   ],
   "source": [
    "d[0,0,1] #first number represents 1st dimension ie.  [[1,2,3],[4,5,6]]\n",
    "         #second number represents 1st dimension in the array [[1,2,3],[4,5,6]] ie.[1,2,3]\n",
    "        #last number represents 2nd element ie. 2"
   ]
  },
  {
   "cell_type": "code",
   "execution_count": 18,
   "id": "a7325f2b",
   "metadata": {},
   "outputs": [
    {
     "data": {
      "text/plain": [
       "array([[ 4,  5],\n",
       "       [42, 57]])"
      ]
     },
     "execution_count": 18,
     "metadata": {},
     "output_type": "execute_result"
    }
   ],
   "source": [
    "d[0:2,1,0:2]"
   ]
  },
  {
   "cell_type": "code",
   "execution_count": 27,
   "id": "dbfa8c25",
   "metadata": {
    "scrolled": true
   },
   "outputs": [
    {
     "data": {
      "text/plain": [
       "4"
      ]
     },
     "execution_count": 27,
     "metadata": {},
     "output_type": "execute_result"
    }
   ],
   "source": [
    "d.itemsize  #returns size of an particular element"
   ]
  },
  {
   "cell_type": "code",
   "execution_count": null,
   "id": "b616d55d",
   "metadata": {},
   "outputs": [],
   "source": [
    "# d.nbytes  #returns total size of array"
   ]
  },
  {
   "cell_type": "code",
   "execution_count": 31,
   "id": "6b35da4d",
   "metadata": {},
   "outputs": [
    {
     "data": {
      "text/plain": [
       "dtype('int32')"
      ]
     },
     "execution_count": 31,
     "metadata": {},
     "output_type": "execute_result"
    }
   ],
   "source": [
    "d.dtype #returns type of item"
   ]
  },
  {
   "cell_type": "code",
   "execution_count": 18,
   "id": "223cfb12",
   "metadata": {},
   "outputs": [
    {
     "data": {
      "text/plain": [
       "5"
      ]
     },
     "execution_count": 18,
     "metadata": {},
     "output_type": "execute_result"
    }
   ],
   "source": [
    "arr = np.array([1, 2, 3, 4], ndmin=5)  #creating an array of dimension 5 using ndmin\n",
    "arr.ndim"
   ]
  },
  {
   "cell_type": "code",
   "execution_count": 19,
   "id": "752794d8",
   "metadata": {},
   "outputs": [
    {
     "data": {
      "text/plain": [
       "(1, 1, 1, 1, 4)"
      ]
     },
     "execution_count": 19,
     "metadata": {},
     "output_type": "execute_result"
    }
   ],
   "source": [
    "arr.shape"
   ]
  },
  {
   "cell_type": "code",
   "execution_count": null,
   "id": "4892f212",
   "metadata": {},
   "outputs": [],
   "source": [
    "-----------------zeros ones identity of array-----------------------"
   ]
  },
  {
   "cell_type": "code",
   "execution_count": 34,
   "id": "16f2b152",
   "metadata": {},
   "outputs": [
    {
     "data": {
      "text/plain": [
       "array([[0., 0., 0.],\n",
       "       [0., 0., 0.]])"
      ]
     },
     "execution_count": 34,
     "metadata": {},
     "output_type": "execute_result"
    }
   ],
   "source": [
    "s=np.zeros((2,3))\n",
    "s"
   ]
  },
  {
   "cell_type": "code",
   "execution_count": 35,
   "id": "307cda5d",
   "metadata": {},
   "outputs": [
    {
     "data": {
      "text/plain": [
       "array([[1.],\n",
       "       [1.],\n",
       "       [1.],\n",
       "       [1.]])"
      ]
     },
     "execution_count": 35,
     "metadata": {},
     "output_type": "execute_result"
    }
   ],
   "source": [
    "s=np.ones((4,1))\n",
    "s"
   ]
  },
  {
   "cell_type": "code",
   "execution_count": 36,
   "id": "31be3d2e",
   "metadata": {
    "scrolled": true
   },
   "outputs": [
    {
     "data": {
      "text/plain": [
       "array([[[1., 1., 1., 1.],\n",
       "        [1., 1., 1., 1.],\n",
       "        [1., 1., 1., 1.]],\n",
       "\n",
       "       [[1., 1., 1., 1.],\n",
       "        [1., 1., 1., 1.],\n",
       "        [1., 1., 1., 1.]]])"
      ]
     },
     "execution_count": 36,
     "metadata": {},
     "output_type": "execute_result"
    }
   ],
   "source": [
    "r=np.ones((2,3,4))\n",
    "r"
   ]
  },
  {
   "cell_type": "code",
   "execution_count": 7,
   "id": "00fab11f",
   "metadata": {
    "scrolled": true
   },
   "outputs": [
    {
     "data": {
      "text/plain": [
       "array([[99, 99, 99],\n",
       "       [99, 99, 99]])"
      ]
     },
     "execution_count": 7,
     "metadata": {},
     "output_type": "execute_result"
    }
   ],
   "source": [
    "k=np.full((2,3),99)\n",
    "k"
   ]
  },
  {
   "cell_type": "code",
   "execution_count": 11,
   "id": "475341b4",
   "metadata": {
    "scrolled": true
   },
   "outputs": [
    {
     "data": {
      "text/plain": [
       "array([[0.34745448, 0.80684144],\n",
       "       [0.7828018 , 0.6447462 ],\n",
       "       [0.27910375, 0.39988945],\n",
       "       [0.23982778, 0.15545262]])"
      ]
     },
     "execution_count": 11,
     "metadata": {},
     "output_type": "execute_result"
    }
   ],
   "source": [
    "f=np.random.rand(4,2) #will change for every run\n",
    "f"
   ]
  },
  {
   "cell_type": "code",
   "execution_count": 12,
   "id": "ece5493b",
   "metadata": {},
   "outputs": [
    {
     "data": {
      "text/plain": [
       "array([[1., 0., 0., 0., 0.],\n",
       "       [0., 1., 0., 0., 0.],\n",
       "       [0., 0., 1., 0., 0.],\n",
       "       [0., 0., 0., 1., 0.],\n",
       "       [0., 0., 0., 0., 1.]])"
      ]
     },
     "execution_count": 12,
     "metadata": {},
     "output_type": "execute_result"
    }
   ],
   "source": [
    "c=np.identity(5)\n",
    "c"
   ]
  },
  {
   "cell_type": "code",
   "execution_count": null,
   "id": "0f629707",
   "metadata": {},
   "outputs": [],
   "source": [
    "---------------coping an array---------------"
   ]
  },
  {
   "cell_type": "code",
   "execution_count": 8,
   "id": "a60b29b0",
   "metadata": {},
   "outputs": [
    {
     "data": {
      "text/plain": [
       "array([12,  2,  3,  4])"
      ]
     },
     "execution_count": 8,
     "metadata": {},
     "output_type": "execute_result"
    }
   ],
   "source": [
    "a=np.array([1,2,3,4])\n",
    "b=a\n",
    "b[0]=12        #this will change in a also\n",
    "a         "
   ]
  },
  {
   "cell_type": "code",
   "execution_count": 10,
   "id": "07b2c1fc",
   "metadata": {},
   "outputs": [
    {
     "data": {
      "text/plain": [
       "array([1, 2, 3, 4])"
      ]
     },
     "execution_count": 10,
     "metadata": {},
     "output_type": "execute_result"
    }
   ],
   "source": [
    "a=np.array([1,2,3,4])\n",
    "b=a.copy()\n",
    "b[0]=12        #this wont change in a as we used copy()\n",
    "a  "
   ]
  },
  {
   "cell_type": "code",
   "execution_count": 16,
   "id": "46ae7d32",
   "metadata": {},
   "outputs": [],
   "source": [
    "n= np.array([1, 2, 3, 4, 5])\n",
    "x = n.view()\n",
    "n[0] = 42       #changes in x reflect in n"
   ]
  },
  {
   "cell_type": "code",
   "execution_count": null,
   "id": "62651218",
   "metadata": {},
   "outputs": [],
   "source": []
  },
  {
   "cell_type": "code",
   "execution_count": null,
   "id": "a5ead79b",
   "metadata": {},
   "outputs": [],
   "source": []
  },
  {
   "cell_type": "code",
   "execution_count": null,
   "id": "2c38a2c4",
   "metadata": {},
   "outputs": [],
   "source": []
  },
  {
   "cell_type": "code",
   "execution_count": null,
   "id": "89e24731",
   "metadata": {},
   "outputs": [],
   "source": []
  },
  {
   "cell_type": "code",
   "execution_count": null,
   "id": "25a296cd",
   "metadata": {},
   "outputs": [],
   "source": []
  },
  {
   "cell_type": "code",
   "execution_count": null,
   "id": "6eb17640",
   "metadata": {},
   "outputs": [],
   "source": []
  },
  {
   "cell_type": "code",
   "execution_count": null,
   "id": "8216eee8",
   "metadata": {},
   "outputs": [],
   "source": [
    "d.ndim #returns the dimensions of array\n",
    "d.shape  #returns the no of rows and columns\n",
    "d.itemsize  #returns size of an particular element\n",
    "d.nbytes  #returns total size of array\n",
    "d.dtype #returns type of item\n",
    "arr = np.array([1, 2, 3, 4], ndmin=5)  #creating an array of dimension 5 using ndmin\n",
    "\n",
    "0D array\n",
    "a=np.array(65)\n",
    "\n",
    "1D array\n",
    "b=np.array([1,2,3,4])\n",
    "c[1]\n",
    "\n",
    "2D array\n",
    "c=np.array([[1,2,4],[3,5,6]])\n",
    "c[1,2]  #[row,col] accesing of 2D array\n",
    "c[0,2:4] #slicing   2 is included 4 is excluded\n",
    "c[0:2,2] #returns 3rd element of both rows\n",
    "\n",
    "3D array\n",
    "d = np.array([[[1, 2, 3], [4, 5, 6]], [[1, 2, 3], [42, 57, 6]]])\n",
    "d[0,0,1] #first number represents 1st dimension ie.  [[1,2,3],[4,5,6]]\n",
    "         #second number represents 1st dimension in the array [[1,2,3],[4,5,6]] ie.[1,2,3]\n",
    "        #last number represents 2nd element ie. 2\n",
    "d[0:2,1,0:2]\n",
    "\n",
    "\n",
    "s=np.zeros((2,3)) #creates 2 rows 3 columns with 0\n",
    "r=np.ones((2,3,4))\n",
    "k=np.full((2,3),99) #creates 2 rows 3 columns with 99\n",
    "f=np.random.rand(4,2) #will change for every run\n",
    "c=np.identity(5)      #return identity matrix with size 5\n",
    "\n",
    "b=a.copy()  #changes in b wont effect a \n",
    "x = n.view() #changes in x reflect in n"
   ]
  }
 ],
 "metadata": {
  "kernelspec": {
   "display_name": "Python 3",
   "language": "python",
   "name": "python3"
  },
  "language_info": {
   "codemirror_mode": {
    "name": "ipython",
    "version": 3
   },
   "file_extension": ".py",
   "mimetype": "text/x-python",
   "name": "python",
   "nbconvert_exporter": "python",
   "pygments_lexer": "ipython3",
   "version": "3.8.8"
  }
 },
 "nbformat": 4,
 "nbformat_minor": 5
}
